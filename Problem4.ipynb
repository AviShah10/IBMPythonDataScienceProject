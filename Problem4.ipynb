{
 "cells": [
  {
   "cell_type": "code",
   "execution_count": 1,
   "metadata": {},
   "outputs": [
    {
     "name": "stdout",
     "output_type": "stream",
     "text": [
      "Collecting imblearn\n",
      "  Downloading https://files.pythonhosted.org/packages/81/a7/4179e6ebfd654bd0eac0b9c06125b8b4c96a9d0a8ff9e9507eb2a26d2d7e/imblearn-0.0-py2.py3-none-any.whl\n",
      "Collecting imbalanced-learn (from imblearn)\n",
      "\u001b[?25l  Downloading https://files.pythonhosted.org/packages/eb/aa/eba717a14df36f0b6f000ebfaf24c3189cd7987130f66cc3513efead8c2a/imbalanced_learn-0.6.1-py3-none-any.whl (162kB)\n",
      "\u001b[K     |████████████████████████████████| 163kB 4.4MB/s eta 0:00:01\n",
      "\u001b[?25hRequirement already satisfied: numpy>=1.11 in /opt/conda/envs/Python36/lib/python3.6/site-packages (from imbalanced-learn->imblearn) (1.15.4)\n",
      "Requirement already satisfied: scipy>=0.17 in /opt/conda/envs/Python36/lib/python3.6/site-packages (from imbalanced-learn->imblearn) (1.2.0)\n",
      "Collecting scikit-learn>=0.22 (from imbalanced-learn->imblearn)\n",
      "\u001b[?25l  Downloading https://files.pythonhosted.org/packages/2e/d0/860c4f6a7027e00acff373d9f5327f4ae3ed5872234b3cbdd7bcb52e5eff/scikit_learn-0.22-cp36-cp36m-manylinux1_x86_64.whl (7.0MB)\n",
      "\u001b[K     |████████████████████████████████| 7.0MB 13.5MB/s eta 0:00:01     |███████▊                        | 1.7MB 13.5MB/s eta 0:00:01\n",
      "\u001b[?25hCollecting joblib>=0.11 (from imbalanced-learn->imblearn)\n",
      "\u001b[?25l  Downloading https://files.pythonhosted.org/packages/28/5c/cf6a2b65a321c4a209efcdf64c2689efae2cb62661f8f6f4bb28547cf1bf/joblib-0.14.1-py2.py3-none-any.whl (294kB)\n",
      "\u001b[K     |████████████████████████████████| 296kB 17.7MB/s eta 0:00:01\n",
      "\u001b[31mERROR: autoai-libs 1.10.3 has requirement numpy>=1.16.4, but you'll have numpy 1.15.4 which is incompatible.\u001b[0m\n",
      "\u001b[31mERROR: autoai-libs 1.10.3 has requirement pandas>=0.24.2, but you'll have pandas 0.24.1 which is incompatible.\u001b[0m\n",
      "\u001b[31mERROR: autoai-libs 1.10.3 has requirement scikit-learn==0.20.3, but you'll have scikit-learn 0.22 which is incompatible.\u001b[0m\n",
      "\u001b[?25hInstalling collected packages: joblib, scikit-learn, imbalanced-learn, imblearn\n",
      "  Found existing installation: scikit-learn 0.20.3\n",
      "    Uninstalling scikit-learn-0.20.3:\n",
      "      Successfully uninstalled scikit-learn-0.20.3\n",
      "Successfully installed imbalanced-learn-0.6.1 imblearn-0.0 joblib-0.14.1 scikit-learn-0.22\n"
     ]
    }
   ],
   "source": [
    "!pip install imblearn"
   ]
  },
  {
   "cell_type": "code",
   "execution_count": 2,
   "metadata": {},
   "outputs": [
    {
     "name": "stderr",
     "output_type": "stream",
     "text": [
      "Using TensorFlow backend.\n"
     ]
    }
   ],
   "source": [
    "import matplotlib.pyplot as plt\n",
    "import pandas as pd\n",
    "import numpy as np\n",
    "import scipy as sp\n",
    "import zipfile, requests, io, os, sys, types, time\n",
    "import seaborn as sns\n",
    "import matplotlib.cm as cm\n",
    "import statsmodels.api as sm\n",
    "import itertools\n",
    "import matplotlib\n",
    "from sklearn.preprocessing import MinMaxScaler\n",
    "from sklearn.preprocessing import StandardScaler\n",
    "from sklearn.preprocessing import Normalizer\n",
    "from sklearn.preprocessing import Binarizer\n",
    "matplotlib.rcParams['axes.labelsize'] = 14\n",
    "matplotlib.rcParams['xtick.labelsize'] = 12\n",
    "matplotlib.rcParams['ytick.labelsize'] = 12\n",
    "matplotlib.rcParams['text.color'] = 'k'\n",
    "\n",
    "\n",
    "from scipy import stats\n",
    "from scipy.stats import norm, skew \n",
    "\n",
    "from sklearn.pipeline import Pipeline\n",
    "from sklearn.model_selection import train_test_split\n",
    "import seaborn as sns\n",
    "\n",
    "\n",
    "from sklearn.model_selection import train_test_split, KFold, cross_val_score, cross_val_predict\n",
    "from sklearn.linear_model import Lasso\n",
    "from sklearn.ensemble import RandomForestRegressor\n",
    "#import lightgbm as lgb\n",
    "from xgboost import XGBRegressor\n",
    "\n",
    "from sklearn.preprocessing import RobustScaler, StandardScaler, MaxAbsScaler\n",
    "from sklearn.metrics import mean_squared_error\n",
    "\n",
    "\n",
    "from dateutil import parser, rrule\n",
    "from datetime import datetime, time, date\n",
    "from sklearn.ensemble import RandomForestClassifier\n",
    "from sklearn.metrics import mean_squared_error, r2_score, precision_score, \\\n",
    "    recall_score, confusion_matrix, classification_report, \\\n",
    "    accuracy_score, f1_score\n",
    "\n",
    "from sklearn.linear_model import LogisticRegression\n",
    "from imblearn.over_sampling import SMOTE\n",
    "\n",
    "from IPython.display import display\n",
    "%matplotlib inline\n",
    "\n",
    "pd.options.display.float_format = '{:20,.3f}'.format\n",
    "pd.options.display.max_columns = None\n",
    "pd.options.display.max_colwidth = 1000\n",
    "np.set_printoptions(precision=3)"
   ]
  },
  {
   "cell_type": "code",
   "execution_count": 3,
   "metadata": {},
   "outputs": [
    {
     "name": "stdout",
     "output_type": "stream",
     "text": [
      "Collecting pip\n",
      "\u001b[?25l  Downloading https://files.pythonhosted.org/packages/00/b6/9cfa56b4081ad13874b0c6f96af8ce16cfbc1cb06bedf8e9164ce5551ec1/pip-19.3.1-py2.py3-none-any.whl (1.4MB)\n",
      "\u001b[K     |████████████████████████████████| 1.4MB 13.1MB/s eta 0:00:01\n",
      "\u001b[?25hInstalling collected packages: pip\n",
      "  Found existing installation: pip 19.1.1\n",
      "    Uninstalling pip-19.1.1:\n",
      "      Successfully uninstalled pip-19.1.1\n",
      "Successfully installed pip-19.3.1\n"
     ]
    }
   ],
   "source": [
    "!pip install --upgrade pip"
   ]
  },
  {
   "cell_type": "code",
   "execution_count": 4,
   "metadata": {},
   "outputs": [
    {
     "name": "stdout",
     "output_type": "stream",
     "text": [
      "Collecting missingno\n",
      "  Downloading https://files.pythonhosted.org/packages/2b/de/6e4dd6d720c49939544352155dc06a08c9f7e4271aa631a559dfbeaaf9d4/missingno-0.4.2-py3-none-any.whl\n",
      "Requirement already satisfied: seaborn in /opt/conda/envs/Python36/lib/python3.6/site-packages (from missingno) (0.9.0)\n",
      "Requirement already satisfied: numpy in /opt/conda/envs/Python36/lib/python3.6/site-packages (from missingno) (1.15.4)\n",
      "Requirement already satisfied: matplotlib in /opt/conda/envs/Python36/lib/python3.6/site-packages (from missingno) (3.0.2)\n",
      "Requirement already satisfied: scipy in /opt/conda/envs/Python36/lib/python3.6/site-packages (from missingno) (1.2.0)\n",
      "Requirement already satisfied: pandas>=0.15.2 in /opt/conda/envs/Python36/lib/python3.6/site-packages (from seaborn->missingno) (0.24.1)\n",
      "Requirement already satisfied: cycler>=0.10 in /opt/conda/envs/Python36/lib/python3.6/site-packages (from matplotlib->missingno) (0.10.0)\n",
      "Requirement already satisfied: kiwisolver>=1.0.1 in /opt/conda/envs/Python36/lib/python3.6/site-packages (from matplotlib->missingno) (1.0.1)\n",
      "Requirement already satisfied: pyparsing!=2.0.4,!=2.1.2,!=2.1.6,>=2.0.1 in /opt/conda/envs/Python36/lib/python3.6/site-packages (from matplotlib->missingno) (2.3.1)\n",
      "Requirement already satisfied: python-dateutil>=2.1 in /opt/conda/envs/Python36/lib/python3.6/site-packages (from matplotlib->missingno) (2.7.5)\n",
      "Requirement already satisfied: pytz>=2011k in /opt/conda/envs/Python36/lib/python3.6/site-packages (from pandas>=0.15.2->seaborn->missingno) (2018.9)\n",
      "Requirement already satisfied: six in /opt/conda/envs/Python36/lib/python3.6/site-packages (from cycler>=0.10->matplotlib->missingno) (1.12.0)\n",
      "Requirement already satisfied: setuptools in /opt/conda/envs/Python36/lib/python3.6/site-packages (from kiwisolver>=1.0.1->matplotlib->missingno) (40.8.0)\n",
      "Installing collected packages: missingno\n",
      "Successfully installed missingno-0.4.2\n"
     ]
    }
   ],
   "source": [
    "!pip install missingno"
   ]
  },
  {
   "cell_type": "code",
   "execution_count": 5,
   "metadata": {},
   "outputs": [
    {
     "name": "stdout",
     "output_type": "stream",
     "text": [
      "Collecting matplotlib\n",
      "\u001b[?25l  Downloading https://files.pythonhosted.org/packages/4e/11/06958a2b895a3853206dea1fb2a5b11bf044f626f90745987612af9c8f2c/matplotlib-3.1.2-cp36-cp36m-manylinux1_x86_64.whl (13.1MB)\n",
      "\u001b[K     |████████████████████████████████| 13.1MB 14.0MB/s eta 0:00:01    |████████████████                | 6.5MB 14.0MB/s eta 0:00:01\n",
      "\u001b[?25hRequirement already satisfied, skipping upgrade: numpy>=1.11 in /opt/conda/envs/Python36/lib/python3.6/site-packages (from matplotlib) (1.15.4)\n",
      "Requirement already satisfied, skipping upgrade: python-dateutil>=2.1 in /opt/conda/envs/Python36/lib/python3.6/site-packages (from matplotlib) (2.7.5)\n",
      "Requirement already satisfied, skipping upgrade: pyparsing!=2.0.4,!=2.1.2,!=2.1.6,>=2.0.1 in /opt/conda/envs/Python36/lib/python3.6/site-packages (from matplotlib) (2.3.1)\n",
      "Requirement already satisfied, skipping upgrade: kiwisolver>=1.0.1 in /opt/conda/envs/Python36/lib/python3.6/site-packages (from matplotlib) (1.0.1)\n",
      "Requirement already satisfied, skipping upgrade: cycler>=0.10 in /opt/conda/envs/Python36/lib/python3.6/site-packages (from matplotlib) (0.10.0)\n",
      "Requirement already satisfied, skipping upgrade: six>=1.5 in /opt/conda/envs/Python36/lib/python3.6/site-packages (from python-dateutil>=2.1->matplotlib) (1.12.0)\n",
      "Requirement already satisfied, skipping upgrade: setuptools in /opt/conda/envs/Python36/lib/python3.6/site-packages (from kiwisolver>=1.0.1->matplotlib) (40.8.0)\n",
      "Installing collected packages: matplotlib\n",
      "  Found existing installation: matplotlib 3.0.2\n",
      "    Uninstalling matplotlib-3.0.2:\n",
      "      Successfully uninstalled matplotlib-3.0.2\n",
      "Successfully installed matplotlib-3.1.2\n"
     ]
    }
   ],
   "source": [
    "!pip install --upgrade matplotlib"
   ]
  },
  {
   "cell_type": "code",
   "execution_count": 6,
   "metadata": {},
   "outputs": [
    {
     "name": "stdout",
     "output_type": "stream",
     "text": [
      "Requirement already up-to-date: scikit-learn in /opt/conda/envs/Python36/lib/python3.6/site-packages (0.22)\n",
      "Requirement already satisfied, skipping upgrade: joblib>=0.11 in /opt/conda/envs/Python36/lib/python3.6/site-packages (from scikit-learn) (0.14.1)\n",
      "Requirement already satisfied, skipping upgrade: scipy>=0.17.0 in /opt/conda/envs/Python36/lib/python3.6/site-packages (from scikit-learn) (1.2.0)\n",
      "Requirement already satisfied, skipping upgrade: numpy>=1.11.0 in /opt/conda/envs/Python36/lib/python3.6/site-packages (from scikit-learn) (1.15.4)\n"
     ]
    }
   ],
   "source": [
    "!pip install --upgrade scikit-learn"
   ]
  },
  {
   "cell_type": "code",
   "execution_count": 7,
   "metadata": {},
   "outputs": [
    {
     "name": "stdout",
     "output_type": "stream",
     "text": [
      "Collecting xgboost==0.80\n",
      "\u001b[?25l  Downloading https://files.pythonhosted.org/packages/8f/15/606f81a2b8a8e82eaa10683cb3f3074905ec65d3bcef949e3f0909f165a5/xgboost-0.80-py2.py3-none-manylinux1_x86_64.whl (15.8MB)\n",
      "\u001b[K     |████████████████████████████████| 15.8MB 546kB/s eta 0:00:01    |█████████████▊                  | 6.8MB 5.2MB/s eta 0:00:02\n",
      "\u001b[?25hRequirement already satisfied: numpy in /opt/conda/envs/Python36/lib/python3.6/site-packages (from xgboost==0.80) (1.15.4)\n",
      "Requirement already satisfied: scipy in /opt/conda/envs/Python36/lib/python3.6/site-packages (from xgboost==0.80) (1.2.0)\n",
      "Installing collected packages: xgboost\n",
      "Successfully installed xgboost-0.80\n"
     ]
    }
   ],
   "source": [
    "!pip install xgboost==0.80"
   ]
  },
  {
   "cell_type": "code",
   "execution_count": 8,
   "metadata": {},
   "outputs": [
    {
     "name": "stdout",
     "output_type": "stream",
     "text": [
      "Collecting pandas-profiling\n",
      "\u001b[?25l  Downloading https://files.pythonhosted.org/packages/2c/2f/aae19e2173c10a9bb7fee5f5cad35dbe53a393960fc91abc477dcc4661e8/pandas-profiling-2.3.0.tar.gz (127kB)\n",
      "\u001b[K     |████████████████████████████████| 133kB 8.8MB/s eta 0:00:01\n",
      "\u001b[?25hRequirement already satisfied: pandas>=0.19 in /opt/conda/envs/Python36/lib/python3.6/site-packages (from pandas-profiling) (0.24.1)\n",
      "Requirement already satisfied: matplotlib>=1.4 in /opt/conda/envs/Python36/lib/python3.6/site-packages (from pandas-profiling) (3.1.2)\n",
      "Requirement already satisfied: jinja2>=2.8 in /opt/conda/envs/Python36/lib/python3.6/site-packages (from pandas-profiling) (2.10)\n",
      "Requirement already satisfied: missingno>=0.4.2 in /opt/conda/envs/Python36/lib/python3.6/site-packages (from pandas-profiling) (0.4.2)\n",
      "Collecting htmlmin>=0.1.12\n",
      "  Downloading https://files.pythonhosted.org/packages/b3/e7/fcd59e12169de19f0131ff2812077f964c6b960e7c09804d30a7bf2ab461/htmlmin-0.1.12.tar.gz\n",
      "Collecting phik>=0.9.8\n",
      "\u001b[?25l  Downloading https://files.pythonhosted.org/packages/45/ad/24a16fa4ba612fb96a3c4bb115a5b9741483f53b66d3d3afd987f20fa227/phik-0.9.8-py3-none-any.whl (606kB)\n",
      "\u001b[K     |████████████████████████████████| 614kB 13.5MB/s eta 0:00:01\n",
      "\u001b[?25hCollecting confuse>=1.0.0\n",
      "  Downloading https://files.pythonhosted.org/packages/4c/6f/90e860cba937c174d8b3775729ccc6377eb91f52ad4eeb008e7252a3646d/confuse-1.0.0.tar.gz\n",
      "Requirement already satisfied: astropy in /opt/conda/envs/Python36/lib/python3.6/site-packages (from pandas-profiling) (3.1.1)\n",
      "Requirement already satisfied: python-dateutil>=2.5.0 in /opt/conda/envs/Python36/lib/python3.6/site-packages (from pandas>=0.19->pandas-profiling) (2.7.5)\n",
      "Requirement already satisfied: pytz>=2011k in /opt/conda/envs/Python36/lib/python3.6/site-packages (from pandas>=0.19->pandas-profiling) (2018.9)\n",
      "Requirement already satisfied: numpy>=1.12.0 in /opt/conda/envs/Python36/lib/python3.6/site-packages (from pandas>=0.19->pandas-profiling) (1.15.4)\n",
      "Requirement already satisfied: kiwisolver>=1.0.1 in /opt/conda/envs/Python36/lib/python3.6/site-packages (from matplotlib>=1.4->pandas-profiling) (1.0.1)\n",
      "Requirement already satisfied: pyparsing!=2.0.4,!=2.1.2,!=2.1.6,>=2.0.1 in /opt/conda/envs/Python36/lib/python3.6/site-packages (from matplotlib>=1.4->pandas-profiling) (2.3.1)\n",
      "Requirement already satisfied: cycler>=0.10 in /opt/conda/envs/Python36/lib/python3.6/site-packages (from matplotlib>=1.4->pandas-profiling) (0.10.0)\n",
      "Requirement already satisfied: MarkupSafe>=0.23 in /opt/conda/envs/Python36/lib/python3.6/site-packages (from jinja2>=2.8->pandas-profiling) (1.1.0)\n",
      "Requirement already satisfied: seaborn in /opt/conda/envs/Python36/lib/python3.6/site-packages (from missingno>=0.4.2->pandas-profiling) (0.9.0)\n",
      "Requirement already satisfied: scipy in /opt/conda/envs/Python36/lib/python3.6/site-packages (from missingno>=0.4.2->pandas-profiling) (1.2.0)\n",
      "Requirement already satisfied: pytest>=4.0.2 in /opt/conda/envs/Python36/lib/python3.6/site-packages (from phik>=0.9.8->pandas-profiling) (4.2.1)\n",
      "Collecting pytest-pylint>=0.13.0\n",
      "  Downloading https://files.pythonhosted.org/packages/64/dc/6f35f114844fb12e38d60c4f3d2441a55baff7043ad4e013777dff55746c/pytest_pylint-0.14.1-py3-none-any.whl\n",
      "Requirement already satisfied: numba>=0.38.1 in /opt/conda/envs/Python36/lib/python3.6/site-packages (from phik>=0.9.8->pandas-profiling) (0.42.0)\n",
      "Requirement already satisfied: nbconvert>=5.3.1 in /opt/conda/envs/Python36/lib/python3.6/site-packages (from phik>=0.9.8->pandas-profiling) (5.4.0)\n",
      "Requirement already satisfied: jupyter-client>=5.2.3 in /opt/conda/envs/Python36/lib/python3.6/site-packages (from phik>=0.9.8->pandas-profiling) (5.2.4)\n",
      "Requirement already satisfied: pyyaml in /opt/conda/envs/Python36/lib/python3.6/site-packages (from confuse>=1.0.0->pandas-profiling) (3.13)\n",
      "Requirement already satisfied: six>=1.5 in /opt/conda/envs/Python36/lib/python3.6/site-packages (from python-dateutil>=2.5.0->pandas>=0.19->pandas-profiling) (1.12.0)\n",
      "Requirement already satisfied: setuptools in /opt/conda/envs/Python36/lib/python3.6/site-packages (from kiwisolver>=1.0.1->matplotlib>=1.4->pandas-profiling) (40.8.0)\n",
      "Requirement already satisfied: py>=1.5.0 in /opt/conda/envs/Python36/lib/python3.6/site-packages (from pytest>=4.0.2->phik>=0.9.8->pandas-profiling) (1.7.0)\n",
      "Requirement already satisfied: attrs>=17.4.0 in /opt/conda/envs/Python36/lib/python3.6/site-packages (from pytest>=4.0.2->phik>=0.9.8->pandas-profiling) (18.2.0)\n",
      "Requirement already satisfied: atomicwrites>=1.0 in /opt/conda/envs/Python36/lib/python3.6/site-packages (from pytest>=4.0.2->phik>=0.9.8->pandas-profiling) (1.3.0)\n",
      "Requirement already satisfied: pluggy>=0.7 in /opt/conda/envs/Python36/lib/python3.6/site-packages (from pytest>=4.0.2->phik>=0.9.8->pandas-profiling) (0.8.1)\n",
      "Requirement already satisfied: more-itertools>=4.0.0 in /opt/conda/envs/Python36/lib/python3.6/site-packages (from pytest>=4.0.2->phik>=0.9.8->pandas-profiling) (5.0.0)\n",
      "Requirement already satisfied: pylint>=1.4.5 in /opt/conda/envs/Python36/lib/python3.6/site-packages (from pytest-pylint>=0.13.0->phik>=0.9.8->pandas-profiling) (2.2.2)\n",
      "Requirement already satisfied: llvmlite>=0.27.0dev0 in /opt/conda/envs/Python36/lib/python3.6/site-packages (from numba>=0.38.1->phik>=0.9.8->pandas-profiling) (0.27.0)\n",
      "Requirement already satisfied: mistune>=0.8.1 in /opt/conda/envs/Python36/lib/python3.6/site-packages (from nbconvert>=5.3.1->phik>=0.9.8->pandas-profiling) (0.8.4)\n",
      "Requirement already satisfied: pygments in /opt/conda/envs/Python36/lib/python3.6/site-packages (from nbconvert>=5.3.1->phik>=0.9.8->pandas-profiling) (2.3.1)\n",
      "Requirement already satisfied: traitlets>=4.2 in /opt/conda/envs/Python36/lib/python3.6/site-packages (from nbconvert>=5.3.1->phik>=0.9.8->pandas-profiling) (4.3.2)\n",
      "Requirement already satisfied: jupyter_core in /opt/conda/envs/Python36/lib/python3.6/site-packages (from nbconvert>=5.3.1->phik>=0.9.8->pandas-profiling) (4.4.0)\n",
      "Requirement already satisfied: nbformat>=4.4 in /opt/conda/envs/Python36/lib/python3.6/site-packages (from nbconvert>=5.3.1->phik>=0.9.8->pandas-profiling) (4.4.0)\n",
      "Requirement already satisfied: entrypoints>=0.2.2 in /opt/conda/envs/Python36/lib/python3.6/site-packages (from nbconvert>=5.3.1->phik>=0.9.8->pandas-profiling) (0.3)\n",
      "Requirement already satisfied: bleach in /opt/conda/envs/Python36/lib/python3.6/site-packages (from nbconvert>=5.3.1->phik>=0.9.8->pandas-profiling) (3.1.0)\n",
      "Requirement already satisfied: pandocfilters>=1.4.1 in /opt/conda/envs/Python36/lib/python3.6/site-packages (from nbconvert>=5.3.1->phik>=0.9.8->pandas-profiling) (1.4.2)\n",
      "Requirement already satisfied: testpath in /opt/conda/envs/Python36/lib/python3.6/site-packages (from nbconvert>=5.3.1->phik>=0.9.8->pandas-profiling) (0.4.2)\n",
      "Requirement already satisfied: defusedxml in /opt/conda/envs/Python36/lib/python3.6/site-packages (from nbconvert>=5.3.1->phik>=0.9.8->pandas-profiling) (0.5.0)\n",
      "Requirement already satisfied: pyzmq>=13 in /opt/conda/envs/Python36/lib/python3.6/site-packages (from jupyter-client>=5.2.3->phik>=0.9.8->pandas-profiling) (17.1.2)\n",
      "Requirement already satisfied: tornado>=4.1 in /opt/conda/envs/Python36/lib/python3.6/site-packages (from jupyter-client>=5.2.3->phik>=0.9.8->pandas-profiling) (5.1.1)\n",
      "Requirement already satisfied: astroid>=2.0.0 in /opt/conda/envs/Python36/lib/python3.6/site-packages (from pylint>=1.4.5->pytest-pylint>=0.13.0->phik>=0.9.8->pandas-profiling) (2.1.0)\n",
      "Requirement already satisfied: isort>=4.2.5 in /opt/conda/envs/Python36/lib/python3.6/site-packages (from pylint>=1.4.5->pytest-pylint>=0.13.0->phik>=0.9.8->pandas-profiling) (4.3.4)\n",
      "Requirement already satisfied: mccabe in /opt/conda/envs/Python36/lib/python3.6/site-packages (from pylint>=1.4.5->pytest-pylint>=0.13.0->phik>=0.9.8->pandas-profiling) (0.6.1)\n",
      "Requirement already satisfied: decorator in /opt/conda/envs/Python36/lib/python3.6/site-packages (from traitlets>=4.2->nbconvert>=5.3.1->phik>=0.9.8->pandas-profiling) (4.3.2)\n",
      "Requirement already satisfied: ipython-genutils in /opt/conda/envs/Python36/lib/python3.6/site-packages (from traitlets>=4.2->nbconvert>=5.3.1->phik>=0.9.8->pandas-profiling) (0.2.0)\n",
      "Requirement already satisfied: jsonschema!=2.5.0,>=2.4 in /opt/conda/envs/Python36/lib/python3.6/site-packages (from nbformat>=4.4->nbconvert>=5.3.1->phik>=0.9.8->pandas-profiling) (2.6.0)\n",
      "Requirement already satisfied: webencodings in /opt/conda/envs/Python36/lib/python3.6/site-packages (from bleach->nbconvert>=5.3.1->phik>=0.9.8->pandas-profiling) (0.5.1)\n",
      "Requirement already satisfied: lazy-object-proxy in /opt/conda/envs/Python36/lib/python3.6/site-packages (from astroid>=2.0.0->pylint>=1.4.5->pytest-pylint>=0.13.0->phik>=0.9.8->pandas-profiling) (1.3.1)\n",
      "Requirement already satisfied: typed-ast; python_version < \"3.7\" and implementation_name == \"cpython\" in /opt/conda/envs/Python36/lib/python3.6/site-packages (from astroid>=2.0.0->pylint>=1.4.5->pytest-pylint>=0.13.0->phik>=0.9.8->pandas-profiling) (1.3.1)\n",
      "Requirement already satisfied: wrapt in /opt/conda/envs/Python36/lib/python3.6/site-packages (from astroid>=2.0.0->pylint>=1.4.5->pytest-pylint>=0.13.0->phik>=0.9.8->pandas-profiling) (1.11.1)\n",
      "Building wheels for collected packages: pandas-profiling, htmlmin, confuse\n",
      "  Building wheel for pandas-profiling (setup.py) ... \u001b[?25ldone\n",
      "\u001b[?25h  Created wheel for pandas-profiling: filename=pandas_profiling-2.3.0-py2.py3-none-any.whl size=145036 sha256=51f4187ed960b1dab17f99c44a13ea0e15f9ce4a58e09b9bb04adfcb4880f082\n",
      "  Stored in directory: /home/dsxuser/.cache/pip/wheels/ce/c7/f1/dbfef4848ebb048cb1d4a22d1ed0c62d8ff2523747235e19fe\n",
      "  Building wheel for htmlmin (setup.py) ... \u001b[?25ldone\n",
      "\u001b[?25h  Created wheel for htmlmin: filename=htmlmin-0.1.12-cp36-none-any.whl size=27085 sha256=a8a483fea254c207e5c3e6bfda47ca4f4e06fcd530b33ddecd57915b2af6c42e\n",
      "  Stored in directory: /home/dsxuser/.cache/pip/wheels/43/07/ac/7c5a9d708d65247ac1f94066cf1db075540b85716c30255459\n",
      "  Building wheel for confuse (setup.py) ... \u001b[?25ldone\n",
      "\u001b[?25h  Created wheel for confuse: filename=confuse-1.0.0-cp36-none-any.whl size=17487 sha256=adb5f4cd87f660d7e8d4caa2de2982cd65a78947fe5bfbe3fd831c50db8ef986\n",
      "  Stored in directory: /home/dsxuser/.cache/pip/wheels/b0/b2/96/2074eee7dbf7b7df69d004c9b6ac4e32dad04fb7666cf943bd\n",
      "Successfully built pandas-profiling htmlmin confuse\n",
      "Installing collected packages: htmlmin, pytest-pylint, phik, confuse, pandas-profiling\n",
      "Successfully installed confuse-1.0.0 htmlmin-0.1.12 pandas-profiling-2.3.0 phik-0.9.8 pytest-pylint-0.14.1\n"
     ]
    }
   ],
   "source": [
    "!pip install pandas-profiling"
   ]
  },
  {
   "cell_type": "code",
   "execution_count": 9,
   "metadata": {},
   "outputs": [],
   "source": [
    "import types\n",
    "from botocore.client import Config\n",
    "import ibm_boto3\n",
    "\n",
    "def __iter__(self): return 0\n",
    "\n",
    "# @hidden_cell\n",
    "# The following code accesses a file in your IBM Cloud Object Storage. It includes your credentials.\n",
    "# You might want to remove those credentials before you share the notebook.\n",
    "client_01bcc276a4754f6fb83f1f60c0bac117 = ibm_boto3.client(service_name='s3',\n",
    "    ibm_api_key_id='6wqZHkZXyyM5ejYhaFyENwLDZT2XVOmoXTOnCSMrV-Ab',\n",
    "    ibm_auth_endpoint=\"https://iam.ng.bluemix.net/oidc/token\",\n",
    "    config=Config(signature_version='oauth'),\n",
    "    endpoint_url='https://s3-api.us-geo.objectstorage.service.networklayer.com')"
   ]
  },
  {
   "cell_type": "code",
   "execution_count": 10,
   "metadata": {},
   "outputs": [
    {
     "data": {
      "text/html": [
       "<div>\n",
       "<style scoped>\n",
       "    .dataframe tbody tr th:only-of-type {\n",
       "        vertical-align: middle;\n",
       "    }\n",
       "\n",
       "    .dataframe tbody tr th {\n",
       "        vertical-align: top;\n",
       "    }\n",
       "\n",
       "    .dataframe thead th {\n",
       "        text-align: right;\n",
       "    }\n",
       "</style>\n",
       "<table border=\"1\" class=\"dataframe\">\n",
       "  <thead>\n",
       "    <tr style=\"text-align: right;\">\n",
       "      <th></th>\n",
       "      <th>created_date</th>\n",
       "      <th>unique_key</th>\n",
       "      <th>complaint_type</th>\n",
       "      <th>incident_zip</th>\n",
       "      <th>incident_address</th>\n",
       "      <th>street_name</th>\n",
       "      <th>address_type</th>\n",
       "      <th>city</th>\n",
       "      <th>resolution_description</th>\n",
       "      <th>borough</th>\n",
       "      <th>latitude</th>\n",
       "      <th>longitude</th>\n",
       "      <th>closed_date</th>\n",
       "      <th>location_type</th>\n",
       "      <th>status</th>\n",
       "    </tr>\n",
       "  </thead>\n",
       "  <tbody>\n",
       "    <tr>\n",
       "      <th>0</th>\n",
       "      <td>2019-08-29T13:19:31.000</td>\n",
       "      <td>43673927</td>\n",
       "      <td>PAINT/PLASTER</td>\n",
       "      <td>10,032.000</td>\n",
       "      <td>548 WEST  168 STREET</td>\n",
       "      <td>WEST  168 STREET</td>\n",
       "      <td>ADDRESS</td>\n",
       "      <td>NEW YORK</td>\n",
       "      <td>NaN</td>\n",
       "      <td>MANHATTAN</td>\n",
       "      <td>40.841</td>\n",
       "      <td>-73.939</td>\n",
       "      <td>NaN</td>\n",
       "      <td>RESIDENTIAL BUILDING</td>\n",
       "      <td>Open</td>\n",
       "    </tr>\n",
       "    <tr>\n",
       "      <th>1</th>\n",
       "      <td>2019-08-29T10:08:48.000</td>\n",
       "      <td>43675998</td>\n",
       "      <td>HEAT/HOT WATER</td>\n",
       "      <td>10,030.000</td>\n",
       "      <td>2710 FREDERICK DOUGLASS BOULEVARD</td>\n",
       "      <td>FREDERICK DOUGLASS BOULEVARD</td>\n",
       "      <td>ADDRESS</td>\n",
       "      <td>NEW YORK</td>\n",
       "      <td>The following complaint conditions are still open. HPD may attempt to contact you to verify the correction of the condition or may conduct an inspection.</td>\n",
       "      <td>MANHATTAN</td>\n",
       "      <td>40.822</td>\n",
       "      <td>-73.942</td>\n",
       "      <td>NaN</td>\n",
       "      <td>RESIDENTIAL BUILDING</td>\n",
       "      <td>Open</td>\n",
       "    </tr>\n",
       "    <tr>\n",
       "      <th>2</th>\n",
       "      <td>2019-08-29T09:56:42.000</td>\n",
       "      <td>43671743</td>\n",
       "      <td>UNSANITARY CONDITION</td>\n",
       "      <td>10,469.000</td>\n",
       "      <td>2713 THROOP AVENUE</td>\n",
       "      <td>THROOP AVENUE</td>\n",
       "      <td>ADDRESS</td>\n",
       "      <td>BRONX</td>\n",
       "      <td>The following complaint conditions are still open. HPD may attempt to contact you to verify the correction of the condition or may conduct an inspection.</td>\n",
       "      <td>BRONX</td>\n",
       "      <td>40.866</td>\n",
       "      <td>-73.851</td>\n",
       "      <td>NaN</td>\n",
       "      <td>RESIDENTIAL BUILDING</td>\n",
       "      <td>Open</td>\n",
       "    </tr>\n",
       "    <tr>\n",
       "      <th>3</th>\n",
       "      <td>2019-08-29T10:46:25.000</td>\n",
       "      <td>43676146</td>\n",
       "      <td>UNSANITARY CONDITION</td>\n",
       "      <td>11,691.000</td>\n",
       "      <td>19-25 SEAGIRT BOULEVARD</td>\n",
       "      <td>SEAGIRT BOULEVARD</td>\n",
       "      <td>ADDRESS</td>\n",
       "      <td>Far Rockaway</td>\n",
       "      <td>The following complaint conditions are still open. HPD may attempt to contact you to verify the correction of the condition or may conduct an inspection.</td>\n",
       "      <td>QUEENS</td>\n",
       "      <td>40.595</td>\n",
       "      <td>-73.753</td>\n",
       "      <td>NaN</td>\n",
       "      <td>RESIDENTIAL BUILDING</td>\n",
       "      <td>Open</td>\n",
       "    </tr>\n",
       "    <tr>\n",
       "      <th>4</th>\n",
       "      <td>2019-08-29T09:47:59.000</td>\n",
       "      <td>43677339</td>\n",
       "      <td>WATER LEAK</td>\n",
       "      <td>10,467.000</td>\n",
       "      <td>2507 CRUGER AVENUE</td>\n",
       "      <td>CRUGER AVENUE</td>\n",
       "      <td>ADDRESS</td>\n",
       "      <td>BRONX</td>\n",
       "      <td>The following complaint conditions are still open. HPD may attempt to contact you to verify the correction of the condition or may conduct an inspection.</td>\n",
       "      <td>BRONX</td>\n",
       "      <td>40.864</td>\n",
       "      <td>-73.866</td>\n",
       "      <td>NaN</td>\n",
       "      <td>RESIDENTIAL BUILDING</td>\n",
       "      <td>Open</td>\n",
       "    </tr>\n",
       "  </tbody>\n",
       "</table>\n",
       "</div>"
      ],
      "text/plain": [
       "              created_date  unique_key        complaint_type  \\\n",
       "0  2019-08-29T13:19:31.000    43673927         PAINT/PLASTER   \n",
       "1  2019-08-29T10:08:48.000    43675998        HEAT/HOT WATER   \n",
       "2  2019-08-29T09:56:42.000    43671743  UNSANITARY CONDITION   \n",
       "3  2019-08-29T10:46:25.000    43676146  UNSANITARY CONDITION   \n",
       "4  2019-08-29T09:47:59.000    43677339            WATER LEAK   \n",
       "\n",
       "          incident_zip                   incident_address  \\\n",
       "0           10,032.000               548 WEST  168 STREET   \n",
       "1           10,030.000  2710 FREDERICK DOUGLASS BOULEVARD   \n",
       "2           10,469.000                 2713 THROOP AVENUE   \n",
       "3           11,691.000            19-25 SEAGIRT BOULEVARD   \n",
       "4           10,467.000                 2507 CRUGER AVENUE   \n",
       "\n",
       "                    street_name address_type          city  \\\n",
       "0              WEST  168 STREET      ADDRESS      NEW YORK   \n",
       "1  FREDERICK DOUGLASS BOULEVARD      ADDRESS      NEW YORK   \n",
       "2                 THROOP AVENUE      ADDRESS         BRONX   \n",
       "3             SEAGIRT BOULEVARD      ADDRESS  Far Rockaway   \n",
       "4                 CRUGER AVENUE      ADDRESS         BRONX   \n",
       "\n",
       "                                                                                                                                      resolution_description  \\\n",
       "0                                                                                                                                                        NaN   \n",
       "1  The following complaint conditions are still open. HPD may attempt to contact you to verify the correction of the condition or may conduct an inspection.   \n",
       "2  The following complaint conditions are still open. HPD may attempt to contact you to verify the correction of the condition or may conduct an inspection.   \n",
       "3  The following complaint conditions are still open. HPD may attempt to contact you to verify the correction of the condition or may conduct an inspection.   \n",
       "4  The following complaint conditions are still open. HPD may attempt to contact you to verify the correction of the condition or may conduct an inspection.   \n",
       "\n",
       "     borough             latitude            longitude closed_date  \\\n",
       "0  MANHATTAN               40.841              -73.939         NaN   \n",
       "1  MANHATTAN               40.822              -73.942         NaN   \n",
       "2      BRONX               40.866              -73.851         NaN   \n",
       "3     QUEENS               40.595              -73.753         NaN   \n",
       "4      BRONX               40.864              -73.866         NaN   \n",
       "\n",
       "          location_type status  \n",
       "0  RESIDENTIAL BUILDING   Open  \n",
       "1  RESIDENTIAL BUILDING   Open  \n",
       "2  RESIDENTIAL BUILDING   Open  \n",
       "3  RESIDENTIAL BUILDING   Open  \n",
       "4  RESIDENTIAL BUILDING   Open  "
      ]
     },
     "execution_count": 10,
     "metadata": {},
     "output_type": "execute_result"
    }
   ],
   "source": [
    "Bucket='edxcapstone-donotdelete-pr-3evpvk3l3u0ynn'\n",
    "\n",
    "#Downloading file from Cloud Storage\n",
    "client_01bcc276a4754f6fb83f1f60c0bac117.download_file(Bucket, Key='df_raw_cos.pkl', Filename='df_raw_local.pkl')\n",
    "\n",
    "#Creating dataframe from pickle file\n",
    "NY311_df = pd.read_pickle('./df_raw_local.pkl')\n",
    "\n",
    "NY311_df.head(5)"
   ]
  },
  {
   "cell_type": "code",
   "execution_count": 11,
   "metadata": {},
   "outputs": [],
   "source": [
    "#Combining 'Heating' and 'Heat/Hot Water' so that they are one column\n",
    "NY311_df['complaint_type'] = np.where(NY311_df['complaint_type']=='HEATING','HEAT/HOT WATER',NY311_df['complaint_type'])\n",
    "#Shows the number of rows in the new dataframe"
   ]
  },
  {
   "cell_type": "code",
   "execution_count": 12,
   "metadata": {},
   "outputs": [
    {
     "name": "stderr",
     "output_type": "stream",
     "text": [
      "/opt/conda/envs/Python36/lib/python3.6/site-packages/IPython/core/interactiveshell.py:3020: DtypeWarning: Columns (19,20,22,23,64,65,80) have mixed types. Specify dtype option on import or set low_memory=False.\n",
      "  interactivity=interactivity, compiler=compiler, result=result)\n"
     ]
    }
   ],
   "source": [
    "body = client_01bcc276a4754f6fb83f1f60c0bac117.get_object(Bucket='edxcapstone-donotdelete-pr-3evpvk3l3u0ynn',Key='BX_18v1.csv')['Body']\n",
    "# add missing __iter__ method, so pandas accepts body as file-like object\n",
    "if not hasattr(body, \"__iter__\"): body.__iter__ = types.MethodType( __iter__, body )\n",
    "\n",
    "bronx_df = pd.read_csv(body)"
   ]
  },
  {
   "cell_type": "code",
   "execution_count": 13,
   "metadata": {},
   "outputs": [],
   "source": [
    "bronx_df = bronx_df[['Address', 'BldgArea', 'BldgDepth', 'BuiltFAR', 'CommFAR', 'FacilFAR', 'Lot', 'LotArea', 'LotDepth', 'NumBldgs', 'NumFloors', 'OfficeArea', 'ResArea', 'ResidFAR', 'RetailArea', 'YearBuilt', 'YearAlter1', 'ZipCode', 'YCoord', 'XCoord']]\n",
    "bronx_df['ZipCode'] = bronx_df['ZipCode'].fillna(0).astype(int)\n",
    "bronx_df['NumFloors'] = bronx_df['NumFloors'].fillna(0).astype(int)\n",
    "bronx_df['NumBldgs'] = bronx_df['NumBldgs'].fillna(0).astype(int)\n",
    "bronx_df['LotDepth'] = bronx_df['LotDepth'].fillna(0).astype(int)\n",
    "bronx_df['BldgDepth'] = bronx_df['BldgDepth'].fillna(0).astype(int)\n",
    "bronx_df['BldgArea'] = bronx_df['BldgArea'].fillna(0).astype(int)\n",
    "bronx_df['Lot'] = bronx_df['Lot'].fillna(0).astype(int)\n",
    "bronx_df['LotArea'] = bronx_df['LotArea'].fillna(0).astype(int)\n",
    "bronx_df['BuiltFAR'] = bronx_df['BuiltFAR'].fillna(0).astype(int)\n",
    "bronx_df['ResidFAR'] = bronx_df['ResidFAR'].fillna(0).astype(int)\n",
    "bronx_df['CommFAR'] = bronx_df['CommFAR'].fillna(0).astype(int)\n",
    "bronx_df['FacilFAR'] = bronx_df['FacilFAR'].fillna(0).astype(int)\n",
    "bronx_df['OfficeArea'] = bronx_df['OfficeArea'].fillna(0).astype(int)\n",
    "bronx_df['ResArea'] = bronx_df['ResArea'].fillna(0).astype(int)\n",
    "bronx_df['RetailArea'] = bronx_df['RetailArea'].fillna(0).astype(int)\n",
    "bronx_df['XCoord'] = bronx_df['XCoord'].fillna(0).astype(int)\n",
    "bronx_df['YCoord'] = bronx_df['YCoord'].fillna(0).astype(int)"
   ]
  },
  {
   "cell_type": "code",
   "execution_count": 14,
   "metadata": {},
   "outputs": [
    {
     "name": "stdout",
     "output_type": "stream",
     "text": [
      "(1562243, 15)\n",
      "(89854, 20)\n"
     ]
    }
   ],
   "source": [
    "indexNames = NY311_df[NY311_df['borough'] != 'BRONX'].index\n",
    "NY311_df.drop(indexNames, inplace=True)\n",
    "print(NY311_df.shape)\n",
    "print(bronx_df.shape)"
   ]
  },
  {
   "cell_type": "code",
   "execution_count": 15,
   "metadata": {},
   "outputs": [
    {
     "name": "stdout",
     "output_type": "stream",
     "text": [
      "Complaints incident address found in PLUTO dataset percentage: 80.384%\n"
     ]
    }
   ],
   "source": [
    "#Determining the percentage of overlap in addresses withing the complain data set and the PLUTO data set\n",
    "percentFound = ((NY311_df['incident_address'].isin(bronx_df['Address']).sum())/NY311_df.shape[0])*100\n",
    "print('Complaints incident address found in PLUTO dataset percentage: {:.3f}%'.format(percentFound))"
   ]
  },
  {
   "cell_type": "code",
   "execution_count": 16,
   "metadata": {},
   "outputs": [
    {
     "name": "stdout",
     "output_type": "stream",
     "text": [
      "The number of duplicates in the PLUTO dataset removed is: 2401\n"
     ]
    }
   ],
   "source": [
    "#Removing duplicate addresses\n",
    "pluto_bronx_df = bronx_df[bronx_df['Address'].notnull()]\n",
    "num1 = pluto_bronx_df.shape[0]\n",
    "pluto_bronx_df = pluto_bronx_df.drop_duplicates(subset=['Address','ZipCode'], keep='first')\n",
    "num2 = pluto_bronx_df.shape[0]\n",
    "print('The number of duplicates in the PLUTO dataset removed is:', (num1-num2))"
   ]
  },
  {
   "cell_type": "code",
   "execution_count": 17,
   "metadata": {},
   "outputs": [],
   "source": [
    "NY311_df['created_month'] = pd.to_datetime(NY311_df['created_date']).apply(lambda x: x.month)\n",
    "NY311_df['created_year'] = pd.to_datetime(NY311_df['created_date']).apply(lambda x: x.year)\n",
    "aggregate_df = NY311_df.groupby(['created_year', 'created_month', 'incident_address'], as_index=False).agg({'unique_key':'count'})\n",
    "aggregate_df.columns = [\"created_year1\",\"created_month1\", \"Address\", \"complaintCnt\"]"
   ]
  },
  {
   "cell_type": "code",
   "execution_count": 18,
   "metadata": {},
   "outputs": [],
   "source": [
    "month_list = [1,2,3,4,5,6,7,8,9,10,11,12]\n",
    "df_month = pd.DataFrame(month_list)\n",
    "df_month.columns = [\"month\"]"
   ]
  },
  {
   "cell_type": "code",
   "execution_count": 19,
   "metadata": {},
   "outputs": [
    {
     "data": {
      "text/plain": [
       "(1048608, 21)"
      ]
     },
     "execution_count": 19,
     "metadata": {},
     "output_type": "execute_result"
    }
   ],
   "source": [
    "bronx_df_month = pd.merge(pluto_bronx_df.assign(key='x'), df_month.assign(key='x'), on='key').drop('key', 1)\n",
    "bronx_df_month.shape"
   ]
  },
  {
   "cell_type": "code",
   "execution_count": 20,
   "metadata": {},
   "outputs": [],
   "source": [
    "year_list = [2013,2014,2015,2016,2017,2018]\n",
    "df_year = pd.DataFrame(year_list)\n",
    "df_year.columns = [\"year\"]"
   ]
  },
  {
   "cell_type": "code",
   "execution_count": 21,
   "metadata": {},
   "outputs": [
    {
     "data": {
      "text/plain": [
       "(6291648, 22)"
      ]
     },
     "execution_count": 21,
     "metadata": {},
     "output_type": "execute_result"
    }
   ],
   "source": [
    "bronx_df = pd.merge(bronx_df_month.assign(key='x'), df_year.assign(key='x'), on='key').drop('key', 1)\n",
    "bronx_df.shape"
   ]
  },
  {
   "cell_type": "code",
   "execution_count": 22,
   "metadata": {},
   "outputs": [
    {
     "data": {
      "text/plain": [
       "(210045, 4)"
      ]
     },
     "execution_count": 22,
     "metadata": {},
     "output_type": "execute_result"
    }
   ],
   "source": [
    "NY311_df_aggregate_year = aggregate_df[aggregate_df['created_year1'].isin([2013,2014,2015,2016,2017,2018])]\n",
    "NY311_df_aggregate_year.shape"
   ]
  },
  {
   "cell_type": "code",
   "execution_count": 23,
   "metadata": {},
   "outputs": [
    {
     "name": "stdout",
     "output_type": "stream",
     "text": [
      "(6291648, 25)\n",
      "(210045, 4)\n",
      "(6291648, 22)\n"
     ]
    }
   ],
   "source": [
    "merged_df = pd.merge(bronx_df, NY311_df_aggregate_year,\n",
    "                     left_on=['Address', 'month', 'year'],\n",
    "                     right_on=['Address','created_month1', 'created_year1'], how='left')\n",
    "print(merged_df.shape)\n",
    "print(NY311_df_aggregate_year.shape)\n",
    "print(bronx_df.shape)"
   ]
  },
  {
   "cell_type": "code",
   "execution_count": 24,
   "metadata": {},
   "outputs": [],
   "source": [
    "merged_df['complaintCnt'] = merged_df.complaintCnt.fillna('0').astype(int)\n",
    "merged_df['created_month1'] = merged_df.created_month1.fillna('0').astype(str)\n",
    "merged_df['created_year1'] = merged_df.created_year1.fillna('0').astype(str)"
   ]
  },
  {
   "cell_type": "code",
   "execution_count": 25,
   "metadata": {},
   "outputs": [
    {
     "data": {
      "text/plain": [
       "(5996520, 25)"
      ]
     },
     "execution_count": 25,
     "metadata": {},
     "output_type": "execute_result"
    }
   ],
   "source": [
    "merged_df = merged_df[merged_df['YearBuilt'] > 0]\n",
    "merged_df.shape"
   ]
  },
  {
   "cell_type": "code",
   "execution_count": 26,
   "metadata": {},
   "outputs": [],
   "source": [
    "del NY311_df\n",
    "del bronx_df\n",
    "del aggregate_df\n",
    "del df_year\n",
    "del df_month\n",
    "del NY311_df_aggregate_year"
   ]
  },
  {
   "cell_type": "code",
   "execution_count": 27,
   "metadata": {},
   "outputs": [
    {
     "data": {
      "text/html": [
       "<div>\n",
       "<style scoped>\n",
       "    .dataframe tbody tr th:only-of-type {\n",
       "        vertical-align: middle;\n",
       "    }\n",
       "\n",
       "    .dataframe tbody tr th {\n",
       "        vertical-align: top;\n",
       "    }\n",
       "\n",
       "    .dataframe thead th {\n",
       "        text-align: right;\n",
       "    }\n",
       "</style>\n",
       "<table border=\"1\" class=\"dataframe\">\n",
       "  <thead>\n",
       "    <tr style=\"text-align: right;\">\n",
       "      <th></th>\n",
       "      <th>Address</th>\n",
       "      <th>BldgArea</th>\n",
       "      <th>BldgDepth</th>\n",
       "      <th>BuiltFAR</th>\n",
       "      <th>CommFAR</th>\n",
       "      <th>FacilFAR</th>\n",
       "      <th>Lot</th>\n",
       "      <th>LotArea</th>\n",
       "      <th>LotDepth</th>\n",
       "      <th>NumBldgs</th>\n",
       "      <th>NumFloors</th>\n",
       "      <th>OfficeArea</th>\n",
       "      <th>ResArea</th>\n",
       "      <th>ResidFAR</th>\n",
       "      <th>RetailArea</th>\n",
       "      <th>YearBuilt</th>\n",
       "      <th>YearAlter1</th>\n",
       "      <th>ZipCode</th>\n",
       "      <th>YCoord</th>\n",
       "      <th>XCoord</th>\n",
       "      <th>month</th>\n",
       "      <th>year</th>\n",
       "      <th>created_year1</th>\n",
       "      <th>created_month1</th>\n",
       "      <th>complaintCnt</th>\n",
       "      <th>building_age</th>\n",
       "      <th>building_alt_age</th>\n",
       "    </tr>\n",
       "  </thead>\n",
       "  <tbody>\n",
       "    <tr>\n",
       "      <th>72</th>\n",
       "      <td>126 BRUCKNER BOULEVARD</td>\n",
       "      <td>752</td>\n",
       "      <td>16</td>\n",
       "      <td>0</td>\n",
       "      <td>5</td>\n",
       "      <td>6</td>\n",
       "      <td>4</td>\n",
       "      <td>13770</td>\n",
       "      <td>100</td>\n",
       "      <td>2</td>\n",
       "      <td>1</td>\n",
       "      <td>272</td>\n",
       "      <td>0</td>\n",
       "      <td>6</td>\n",
       "      <td>0</td>\n",
       "      <td>1931</td>\n",
       "      <td>1994</td>\n",
       "      <td>10454</td>\n",
       "      <td>232156</td>\n",
       "      <td>1006076</td>\n",
       "      <td>1</td>\n",
       "      <td>2013</td>\n",
       "      <td>0</td>\n",
       "      <td>0</td>\n",
       "      <td>0</td>\n",
       "      <td>82</td>\n",
       "      <td>19</td>\n",
       "    </tr>\n",
       "    <tr>\n",
       "      <th>73</th>\n",
       "      <td>126 BRUCKNER BOULEVARD</td>\n",
       "      <td>752</td>\n",
       "      <td>16</td>\n",
       "      <td>0</td>\n",
       "      <td>5</td>\n",
       "      <td>6</td>\n",
       "      <td>4</td>\n",
       "      <td>13770</td>\n",
       "      <td>100</td>\n",
       "      <td>2</td>\n",
       "      <td>1</td>\n",
       "      <td>272</td>\n",
       "      <td>0</td>\n",
       "      <td>6</td>\n",
       "      <td>0</td>\n",
       "      <td>1931</td>\n",
       "      <td>1994</td>\n",
       "      <td>10454</td>\n",
       "      <td>232156</td>\n",
       "      <td>1006076</td>\n",
       "      <td>1</td>\n",
       "      <td>2014</td>\n",
       "      <td>0</td>\n",
       "      <td>0</td>\n",
       "      <td>0</td>\n",
       "      <td>83</td>\n",
       "      <td>20</td>\n",
       "    </tr>\n",
       "    <tr>\n",
       "      <th>74</th>\n",
       "      <td>126 BRUCKNER BOULEVARD</td>\n",
       "      <td>752</td>\n",
       "      <td>16</td>\n",
       "      <td>0</td>\n",
       "      <td>5</td>\n",
       "      <td>6</td>\n",
       "      <td>4</td>\n",
       "      <td>13770</td>\n",
       "      <td>100</td>\n",
       "      <td>2</td>\n",
       "      <td>1</td>\n",
       "      <td>272</td>\n",
       "      <td>0</td>\n",
       "      <td>6</td>\n",
       "      <td>0</td>\n",
       "      <td>1931</td>\n",
       "      <td>1994</td>\n",
       "      <td>10454</td>\n",
       "      <td>232156</td>\n",
       "      <td>1006076</td>\n",
       "      <td>1</td>\n",
       "      <td>2015</td>\n",
       "      <td>0</td>\n",
       "      <td>0</td>\n",
       "      <td>0</td>\n",
       "      <td>84</td>\n",
       "      <td>21</td>\n",
       "    </tr>\n",
       "    <tr>\n",
       "      <th>75</th>\n",
       "      <td>126 BRUCKNER BOULEVARD</td>\n",
       "      <td>752</td>\n",
       "      <td>16</td>\n",
       "      <td>0</td>\n",
       "      <td>5</td>\n",
       "      <td>6</td>\n",
       "      <td>4</td>\n",
       "      <td>13770</td>\n",
       "      <td>100</td>\n",
       "      <td>2</td>\n",
       "      <td>1</td>\n",
       "      <td>272</td>\n",
       "      <td>0</td>\n",
       "      <td>6</td>\n",
       "      <td>0</td>\n",
       "      <td>1931</td>\n",
       "      <td>1994</td>\n",
       "      <td>10454</td>\n",
       "      <td>232156</td>\n",
       "      <td>1006076</td>\n",
       "      <td>1</td>\n",
       "      <td>2016</td>\n",
       "      <td>0</td>\n",
       "      <td>0</td>\n",
       "      <td>0</td>\n",
       "      <td>85</td>\n",
       "      <td>22</td>\n",
       "    </tr>\n",
       "    <tr>\n",
       "      <th>76</th>\n",
       "      <td>126 BRUCKNER BOULEVARD</td>\n",
       "      <td>752</td>\n",
       "      <td>16</td>\n",
       "      <td>0</td>\n",
       "      <td>5</td>\n",
       "      <td>6</td>\n",
       "      <td>4</td>\n",
       "      <td>13770</td>\n",
       "      <td>100</td>\n",
       "      <td>2</td>\n",
       "      <td>1</td>\n",
       "      <td>272</td>\n",
       "      <td>0</td>\n",
       "      <td>6</td>\n",
       "      <td>0</td>\n",
       "      <td>1931</td>\n",
       "      <td>1994</td>\n",
       "      <td>10454</td>\n",
       "      <td>232156</td>\n",
       "      <td>1006076</td>\n",
       "      <td>1</td>\n",
       "      <td>2017</td>\n",
       "      <td>0</td>\n",
       "      <td>0</td>\n",
       "      <td>0</td>\n",
       "      <td>86</td>\n",
       "      <td>23</td>\n",
       "    </tr>\n",
       "  </tbody>\n",
       "</table>\n",
       "</div>"
      ],
      "text/plain": [
       "                   Address  BldgArea  BldgDepth  BuiltFAR  CommFAR  FacilFAR  \\\n",
       "72  126 BRUCKNER BOULEVARD       752         16         0        5         6   \n",
       "73  126 BRUCKNER BOULEVARD       752         16         0        5         6   \n",
       "74  126 BRUCKNER BOULEVARD       752         16         0        5         6   \n",
       "75  126 BRUCKNER BOULEVARD       752         16         0        5         6   \n",
       "76  126 BRUCKNER BOULEVARD       752         16         0        5         6   \n",
       "\n",
       "    Lot  LotArea  LotDepth  NumBldgs  NumFloors  OfficeArea  ResArea  \\\n",
       "72    4    13770       100         2          1         272        0   \n",
       "73    4    13770       100         2          1         272        0   \n",
       "74    4    13770       100         2          1         272        0   \n",
       "75    4    13770       100         2          1         272        0   \n",
       "76    4    13770       100         2          1         272        0   \n",
       "\n",
       "    ResidFAR  RetailArea  YearBuilt  YearAlter1  ZipCode  YCoord   XCoord  \\\n",
       "72         6           0       1931        1994    10454  232156  1006076   \n",
       "73         6           0       1931        1994    10454  232156  1006076   \n",
       "74         6           0       1931        1994    10454  232156  1006076   \n",
       "75         6           0       1931        1994    10454  232156  1006076   \n",
       "76         6           0       1931        1994    10454  232156  1006076   \n",
       "\n",
       "    month  year created_year1 created_month1  complaintCnt  building_age  \\\n",
       "72      1  2013             0              0             0            82   \n",
       "73      1  2014             0              0             0            83   \n",
       "74      1  2015             0              0             0            84   \n",
       "75      1  2016             0              0             0            85   \n",
       "76      1  2017             0              0             0            86   \n",
       "\n",
       "    building_alt_age  \n",
       "72                19  \n",
       "73                20  \n",
       "74                21  \n",
       "75                22  \n",
       "76                23  "
      ]
     },
     "execution_count": 27,
     "metadata": {},
     "output_type": "execute_result"
    }
   ],
   "source": [
    "merged_df['building_age'] = merged_df.apply(lambda a: a['year']-a['YearBuilt'] , axis=1)\n",
    "merged_df['building_alt_age'] = merged_df.apply(lambda a: a['year']-a['YearAlter1'] if a['YearAlter1']>0 else a['building_age'], axis=1)\n",
    "merged_df.head(5)"
   ]
  },
  {
   "cell_type": "code",
   "execution_count": 28,
   "metadata": {},
   "outputs": [],
   "source": [
    "#Creat function to separate number of complaints based on complaintCnt into 4 different bins\n",
    "def complaint_range(num):\n",
    "    if num <= 0:\n",
    "        range = 0\n",
    "    elif num <= 10 and num > 0:\n",
    "        range = 1\n",
    "    elif num <= 100 and num > 10:\n",
    "        range = 10\n",
    "    elif num > 100:\n",
    "        range = 100\n",
    "    else:\n",
    "        range = 10\n",
    "    return range"
   ]
  },
  {
   "cell_type": "code",
   "execution_count": 29,
   "metadata": {},
   "outputs": [
    {
     "data": {
      "text/html": [
       "<div>\n",
       "<style scoped>\n",
       "    .dataframe tbody tr th:only-of-type {\n",
       "        vertical-align: middle;\n",
       "    }\n",
       "\n",
       "    .dataframe tbody tr th {\n",
       "        vertical-align: top;\n",
       "    }\n",
       "\n",
       "    .dataframe thead th {\n",
       "        text-align: right;\n",
       "    }\n",
       "</style>\n",
       "<table border=\"1\" class=\"dataframe\">\n",
       "  <thead>\n",
       "    <tr style=\"text-align: right;\">\n",
       "      <th></th>\n",
       "      <th>Address</th>\n",
       "      <th>BldgArea</th>\n",
       "      <th>BldgDepth</th>\n",
       "      <th>BuiltFAR</th>\n",
       "      <th>CommFAR</th>\n",
       "      <th>FacilFAR</th>\n",
       "      <th>Lot</th>\n",
       "      <th>LotArea</th>\n",
       "      <th>LotDepth</th>\n",
       "      <th>NumBldgs</th>\n",
       "      <th>NumFloors</th>\n",
       "      <th>OfficeArea</th>\n",
       "      <th>ResArea</th>\n",
       "      <th>ResidFAR</th>\n",
       "      <th>RetailArea</th>\n",
       "      <th>YearBuilt</th>\n",
       "      <th>YearAlter1</th>\n",
       "      <th>ZipCode</th>\n",
       "      <th>YCoord</th>\n",
       "      <th>XCoord</th>\n",
       "      <th>month</th>\n",
       "      <th>year</th>\n",
       "      <th>created_year1</th>\n",
       "      <th>created_month1</th>\n",
       "      <th>complaintCnt</th>\n",
       "      <th>building_age</th>\n",
       "      <th>building_alt_age</th>\n",
       "    </tr>\n",
       "    <tr>\n",
       "      <th>complaint_range</th>\n",
       "      <th></th>\n",
       "      <th></th>\n",
       "      <th></th>\n",
       "      <th></th>\n",
       "      <th></th>\n",
       "      <th></th>\n",
       "      <th></th>\n",
       "      <th></th>\n",
       "      <th></th>\n",
       "      <th></th>\n",
       "      <th></th>\n",
       "      <th></th>\n",
       "      <th></th>\n",
       "      <th></th>\n",
       "      <th></th>\n",
       "      <th></th>\n",
       "      <th></th>\n",
       "      <th></th>\n",
       "      <th></th>\n",
       "      <th></th>\n",
       "      <th></th>\n",
       "      <th></th>\n",
       "      <th></th>\n",
       "      <th></th>\n",
       "      <th></th>\n",
       "      <th></th>\n",
       "      <th></th>\n",
       "    </tr>\n",
       "  </thead>\n",
       "  <tbody>\n",
       "    <tr>\n",
       "      <th>0</th>\n",
       "      <td>5834861</td>\n",
       "      <td>5834861</td>\n",
       "      <td>5834861</td>\n",
       "      <td>5834861</td>\n",
       "      <td>5834861</td>\n",
       "      <td>5834861</td>\n",
       "      <td>5834861</td>\n",
       "      <td>5834861</td>\n",
       "      <td>5834861</td>\n",
       "      <td>5834861</td>\n",
       "      <td>5834861</td>\n",
       "      <td>5834861</td>\n",
       "      <td>5834861</td>\n",
       "      <td>5834861</td>\n",
       "      <td>5834861</td>\n",
       "      <td>5834861</td>\n",
       "      <td>5834861</td>\n",
       "      <td>5834861</td>\n",
       "      <td>5834861</td>\n",
       "      <td>5834861</td>\n",
       "      <td>5834861</td>\n",
       "      <td>5834861</td>\n",
       "      <td>5834861</td>\n",
       "      <td>5834861</td>\n",
       "      <td>5834861</td>\n",
       "      <td>5834861</td>\n",
       "      <td>5834861</td>\n",
       "    </tr>\n",
       "    <tr>\n",
       "      <th>1</th>\n",
       "      <td>141051</td>\n",
       "      <td>141051</td>\n",
       "      <td>141051</td>\n",
       "      <td>141051</td>\n",
       "      <td>141051</td>\n",
       "      <td>141051</td>\n",
       "      <td>141051</td>\n",
       "      <td>141051</td>\n",
       "      <td>141051</td>\n",
       "      <td>141051</td>\n",
       "      <td>141051</td>\n",
       "      <td>141051</td>\n",
       "      <td>141051</td>\n",
       "      <td>141051</td>\n",
       "      <td>141051</td>\n",
       "      <td>141051</td>\n",
       "      <td>141051</td>\n",
       "      <td>141051</td>\n",
       "      <td>141051</td>\n",
       "      <td>141051</td>\n",
       "      <td>141051</td>\n",
       "      <td>141051</td>\n",
       "      <td>141051</td>\n",
       "      <td>141051</td>\n",
       "      <td>141051</td>\n",
       "      <td>141051</td>\n",
       "      <td>141051</td>\n",
       "    </tr>\n",
       "    <tr>\n",
       "      <th>10</th>\n",
       "      <td>20438</td>\n",
       "      <td>20438</td>\n",
       "      <td>20438</td>\n",
       "      <td>20438</td>\n",
       "      <td>20438</td>\n",
       "      <td>20438</td>\n",
       "      <td>20438</td>\n",
       "      <td>20438</td>\n",
       "      <td>20438</td>\n",
       "      <td>20438</td>\n",
       "      <td>20438</td>\n",
       "      <td>20438</td>\n",
       "      <td>20438</td>\n",
       "      <td>20438</td>\n",
       "      <td>20438</td>\n",
       "      <td>20438</td>\n",
       "      <td>20438</td>\n",
       "      <td>20438</td>\n",
       "      <td>20438</td>\n",
       "      <td>20438</td>\n",
       "      <td>20438</td>\n",
       "      <td>20438</td>\n",
       "      <td>20438</td>\n",
       "      <td>20438</td>\n",
       "      <td>20438</td>\n",
       "      <td>20438</td>\n",
       "      <td>20438</td>\n",
       "    </tr>\n",
       "    <tr>\n",
       "      <th>100</th>\n",
       "      <td>170</td>\n",
       "      <td>170</td>\n",
       "      <td>170</td>\n",
       "      <td>170</td>\n",
       "      <td>170</td>\n",
       "      <td>170</td>\n",
       "      <td>170</td>\n",
       "      <td>170</td>\n",
       "      <td>170</td>\n",
       "      <td>170</td>\n",
       "      <td>170</td>\n",
       "      <td>170</td>\n",
       "      <td>170</td>\n",
       "      <td>170</td>\n",
       "      <td>170</td>\n",
       "      <td>170</td>\n",
       "      <td>170</td>\n",
       "      <td>170</td>\n",
       "      <td>170</td>\n",
       "      <td>170</td>\n",
       "      <td>170</td>\n",
       "      <td>170</td>\n",
       "      <td>170</td>\n",
       "      <td>170</td>\n",
       "      <td>170</td>\n",
       "      <td>170</td>\n",
       "      <td>170</td>\n",
       "    </tr>\n",
       "  </tbody>\n",
       "</table>\n",
       "</div>"
      ],
      "text/plain": [
       "                 Address  BldgArea  BldgDepth  BuiltFAR  CommFAR  FacilFAR  \\\n",
       "complaint_range                                                              \n",
       "0                5834861   5834861    5834861   5834861  5834861   5834861   \n",
       "1                 141051    141051     141051    141051   141051    141051   \n",
       "10                 20438     20438      20438     20438    20438     20438   \n",
       "100                  170       170        170       170      170       170   \n",
       "\n",
       "                     Lot  LotArea  LotDepth  NumBldgs  NumFloors  OfficeArea  \\\n",
       "complaint_range                                                                \n",
       "0                5834861  5834861   5834861   5834861    5834861     5834861   \n",
       "1                 141051   141051    141051    141051     141051      141051   \n",
       "10                 20438    20438     20438     20438      20438       20438   \n",
       "100                  170      170       170       170        170         170   \n",
       "\n",
       "                 ResArea  ResidFAR  RetailArea  YearBuilt  YearAlter1  \\\n",
       "complaint_range                                                         \n",
       "0                5834861   5834861     5834861    5834861     5834861   \n",
       "1                 141051    141051      141051     141051      141051   \n",
       "10                 20438     20438       20438      20438       20438   \n",
       "100                  170       170         170        170         170   \n",
       "\n",
       "                 ZipCode   YCoord   XCoord    month     year  created_year1  \\\n",
       "complaint_range                                                               \n",
       "0                5834861  5834861  5834861  5834861  5834861        5834861   \n",
       "1                 141051   141051   141051   141051   141051         141051   \n",
       "10                 20438    20438    20438    20438    20438          20438   \n",
       "100                  170      170      170      170      170            170   \n",
       "\n",
       "                 created_month1  complaintCnt  building_age  building_alt_age  \n",
       "complaint_range                                                                \n",
       "0                       5834861       5834861       5834861           5834861  \n",
       "1                        141051        141051        141051            141051  \n",
       "10                        20438         20438         20438             20438  \n",
       "100                         170           170           170               170  "
      ]
     },
     "execution_count": 29,
     "metadata": {},
     "output_type": "execute_result"
    }
   ],
   "source": [
    "#Applying complaint_range function to merged_df\n",
    "merged_df['complaint_range'] = merged_df['complaintCnt'].apply(lambda x: complaint_range(x))\n",
    "merged_df.groupby(['complaint_range']).count()"
   ]
  },
  {
   "cell_type": "code",
   "execution_count": 30,
   "metadata": {},
   "outputs": [
    {
     "data": {
      "text/plain": [
       "(5975912, 28)"
      ]
     },
     "execution_count": 30,
     "metadata": {},
     "output_type": "execute_result"
    }
   ],
   "source": [
    "merged_df_bin = merged_df[merged_df['complaint_range'] <= 1]\n",
    "merged_df_bin.shape"
   ]
  },
  {
   "cell_type": "code",
   "execution_count": 31,
   "metadata": {},
   "outputs": [],
   "source": [
    "#As the ML model, use a Random Forest Classification model which predicts\n",
    "#whether there would be Heat/Hot Water Complaint at an address or not on any given month.\n",
    "#To create the model use data for all years 2013 to 2017 \n",
    "#to test the model for precision use data for 2018"
   ]
  },
  {
   "cell_type": "code",
   "execution_count": 32,
   "metadata": {},
   "outputs": [],
   "source": [
    "merged_df_train = merged_df_bin[merged_df_bin['year'].isin([2013,2014,2015,2016,2017])]\n",
    "merged_df_test = merged_df_bin[merged_df_bin['year'].isin([2018])]"
   ]
  },
  {
   "cell_type": "code",
   "execution_count": 33,
   "metadata": {},
   "outputs": [],
   "source": [
    "scaler = RobustScaler()"
   ]
  },
  {
   "cell_type": "code",
   "execution_count": 34,
   "metadata": {},
   "outputs": [],
   "source": [
    "RFC = RandomForestClassifier(n_estimators=10, random_state=5)\n",
    "pipelineRFC = Pipeline(steps=[('scaler', scaler), ('classification', RFC)])"
   ]
  },
  {
   "cell_type": "code",
   "execution_count": 35,
   "metadata": {},
   "outputs": [],
   "source": [
    "features = merged_df_train.columns.tolist()\n",
    "response = 'complaint_range'\n",
    "features.remove('complaintCnt')\n",
    "features.remove('complaint_range')\n",
    "features.remove('Address')\n",
    "features.remove('YearBuilt')\n",
    "features.remove('YearAlter1')\n",
    "features.remove('year')\n",
    "features.remove('created_year1')\n",
    "features.remove('created_month1')\n",
    "\n",
    "X = merged_df_train[features]\n",
    "y = merged_df_train[response]\n",
    "Xt = merged_df_test[features]\n",
    "Yt = merged_df_test[response]"
   ]
  },
  {
   "cell_type": "code",
   "execution_count": 36,
   "metadata": {},
   "outputs": [],
   "source": [
    "del merged_df\n",
    "del merged_df_train\n",
    "del merged_df_test"
   ]
  },
  {
   "cell_type": "code",
   "execution_count": 38,
   "metadata": {},
   "outputs": [
    {
     "data": {
      "text/plain": [
       "Pipeline(memory=None,\n",
       "         steps=[('scaler',\n",
       "                 RobustScaler(copy=True, quantile_range=(25.0, 75.0),\n",
       "                              with_centering=True, with_scaling=True)),\n",
       "                ('classification',\n",
       "                 RandomForestClassifier(bootstrap=True, ccp_alpha=0.0,\n",
       "                                        class_weight=None, criterion='gini',\n",
       "                                        max_depth=None, max_features='auto',\n",
       "                                        max_leaf_nodes=None, max_samples=None,\n",
       "                                        min_impurity_decrease=0.0,\n",
       "                                        min_impurity_split=None,\n",
       "                                        min_samples_leaf=1, min_samples_split=2,\n",
       "                                        min_weight_fraction_leaf=0.0,\n",
       "                                        n_estimators=10, n_jobs=None,\n",
       "                                        oob_score=False, random_state=5,\n",
       "                                        verbose=0, warm_start=False))],\n",
       "         verbose=False)"
      ]
     },
     "execution_count": 38,
     "metadata": {},
     "output_type": "execute_result"
    }
   ],
   "source": [
    "pipelineRFC.fit(X, y)"
   ]
  },
  {
   "cell_type": "code",
   "execution_count": 39,
   "metadata": {},
   "outputs": [],
   "source": [
    "pred_RFC = pipelineRFC.predict(Xt)"
   ]
  },
  {
   "cell_type": "code",
   "execution_count": 40,
   "metadata": {},
   "outputs": [
    {
     "name": "stdout",
     "output_type": "stream",
     "text": [
      "R2 score : -0.13763\n",
      "Mean squared error: 0.02579\n",
      "RMSE:0.16059 \n",
      "Recall: 0.3495653678155949\n",
      "Precision: 0.4313694097555769\n",
      "Clasification report: \n",
      "               precision    recall  f1-score   support\n",
      "\n",
      "           0       0.98      0.99      0.99    973187\n",
      "           1       0.43      0.35      0.39     23123\n",
      "\n",
      "    accuracy                           0.97    996310\n",
      "   macro avg       0.71      0.67      0.69    996310\n",
      "weighted avg       0.97      0.97      0.97    996310\n",
      "\n",
      "Confussion matrix:\n",
      " [[962532  10655]\n",
      " [ 15040   8083]]\n"
     ]
    }
   ],
   "source": [
    "print(\"R2 score : %.5f\" % r2_score(Yt,pred_RFC))\n",
    "print(\"Mean squared error: %.5f\" % mean_squared_error(Yt,pred_RFC))\n",
    "print(\"RMSE:%.5f \" % mean_squared_error(Yt, pred_RFC)**0.5)\n",
    "\n",
    "print('Recall:', recall_score(Yt, pred_RFC))\n",
    "print('Precision:', precision_score(Yt, pred_RFC))\n",
    "print('Clasification report: \\n', classification_report(Yt, pred_RFC))\n",
    "print('Confussion matrix:\\n',confusion_matrix(Yt, pred_RFC))"
   ]
  },
  {
   "cell_type": "code",
   "execution_count": 41,
   "metadata": {},
   "outputs": [],
   "source": [
    "#Concluding Remarks\n",
    "#The performance of the model created above is not very accurate.\n",
    "#The precision for determining if there is a Heat/Hot Water Complaint (value 1) is only 43% precise\n",
    "#This model could possibly be used if other attributes from other datasets were used as predictors.\n",
    "#I believe that in order for a predictive model to be created to determine\n",
    "#whether or not there is a Heat/Hot Water Complaint, there must be more than these two data sets."
   ]
  }
 ],
 "metadata": {
  "kernelspec": {
   "display_name": "Python 3.6",
   "language": "python",
   "name": "python3"
  },
  "language_info": {
   "codemirror_mode": {
    "name": "ipython",
    "version": 3
   },
   "file_extension": ".py",
   "mimetype": "text/x-python",
   "name": "python",
   "nbconvert_exporter": "python",
   "pygments_lexer": "ipython3",
   "version": "3.6.8"
  }
 },
 "nbformat": 4,
 "nbformat_minor": 1
}
